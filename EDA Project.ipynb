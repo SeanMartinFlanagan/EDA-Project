{
 "cells": [
  {
   "cell_type": "code",
   "execution_count": 90,
   "id": "78febea6",
   "metadata": {},
   "outputs": [],
   "source": [
    "import pandas as pd\n",
    "import numpy as np"
   ]
  },
  {
   "cell_type": "markdown",
   "id": "bf9b1706",
   "metadata": {},
   "source": [
    "Data Source: http://web.mta.info/developers/turnstile.html.\n",
    "Data consists of 13 weeks each from the beginning of 2019 and 2022\n",
    "\n",
    "Function \"get_data\" taken from Metis MTA Exercises"
   ]
  },
  {
   "cell_type": "code",
   "execution_count": 2,
   "id": "9da78ff3",
   "metadata": {},
   "outputs": [],
   "source": [
    "# Source: \n",
    "def get_data(week_nums):\n",
    "    url = \"http://web.mta.info/developers/data/nyct/turnstile/turnstile_{}.txt\"\n",
    "    dfs = []\n",
    "    for week_num in week_nums:\n",
    "        file_url = url.format(week_num)\n",
    "        dfs.append(pd.read_csv(file_url))\n",
    "    return pd.concat(dfs)\n",
    "        \n",
    "week_nums_2019 = [190112, 190119, 190126, 190202, 190209, 190216, 190223, 190302, 190309, 190316, 190323, 190330, 190406]\n",
    "week_nums_2022 = [220108, 220115, 220122, 220129, 220205, 220212, 220219, 220226, 220305, 220312, 220319, 220326, 220402]\n",
    "turnstiles2019_df = get_data(week_nums_2019)\n",
    "turnstiles2022_df = get_data(week_nums_2022)"
   ]
  },
  {
   "cell_type": "code",
   "execution_count": 3,
   "id": "9f7642d1",
   "metadata": {},
   "outputs": [],
   "source": [
    "turnstiles2019_df.columns = [column.strip() for column in turnstiles2019_df.columns]\n",
    "turnstiles2022_df.columns = [column.strip() for column in turnstiles2022_df.columns]"
   ]
  },
  {
   "cell_type": "code",
   "execution_count": 4,
   "id": "d4d5b0e5",
   "metadata": {},
   "outputs": [],
   "source": [
    "from datetime import datetime, timedelta"
   ]
  },
  {
   "cell_type": "markdown",
   "id": "1bd79999",
   "metadata": {},
   "source": [
    "From Metis MTA Exercises:"
   ]
  },
  {
   "cell_type": "code",
   "execution_count": 5,
   "id": "a0292029",
   "metadata": {},
   "outputs": [],
   "source": [
    "# Take the date and time fields into a single datetime column\n",
    "turnstiles2019_df[\"DATE_TIME\"] = pd.to_datetime(turnstiles2019_df.DATE + \" \" + turnstiles2019_df.TIME, \n",
    "                                            format=\"%m/%d/%Y %H:%M:%S\")\n",
    "turnstiles2022_df[\"DATE_TIME\"] = pd.to_datetime(turnstiles2022_df.DATE + \" \" + turnstiles2022_df.TIME, \n",
    "                                            format=\"%m/%d/%Y %H:%M:%S\")"
   ]
  },
  {
   "cell_type": "code",
   "execution_count": 6,
   "id": "d4dc0840",
   "metadata": {},
   "outputs": [],
   "source": [
    "turnstiles2019_df.sort_values([\"C/A\", \"UNIT\", \"SCP\", \"STATION\", \"DATE_TIME\"], \n",
    "                          inplace=True, ascending=False)\n",
    "turnstiles2019_df.drop_duplicates(subset=[\"C/A\", \"UNIT\", \"SCP\", \"STATION\", \"DATE_TIME\"], inplace=True)\n",
    "turnstiles2022_df.sort_values([\"C/A\", \"UNIT\", \"SCP\", \"STATION\", \"DATE_TIME\"], \n",
    "                          inplace=True, ascending=False)\n",
    "turnstiles2022_df.drop_duplicates(subset=[\"C/A\", \"UNIT\", \"SCP\", \"STATION\", \"DATE_TIME\"], inplace=True)"
   ]
  },
  {
   "cell_type": "code",
   "execution_count": 7,
   "id": "65abcc42",
   "metadata": {},
   "outputs": [],
   "source": [
    "turnstiles2019_time = (turnstiles2019_df\n",
    "                        .groupby([\"C/A\", \"UNIT\", \"SCP\", \"STATION\", \"DATE_TIME\"],as_index=False)\n",
    "                        .ENTRIES.first())\n",
    "turnstiles2022_time = (turnstiles2022_df\n",
    "                        .groupby([\"C/A\", \"UNIT\", \"SCP\", \"STATION\", \"DATE_TIME\"],as_index=False)\n",
    "                        .ENTRIES.first())"
   ]
  },
  {
   "cell_type": "code",
   "execution_count": 8,
   "id": "b0be43f5",
   "metadata": {},
   "outputs": [
    {
     "name": "stderr",
     "output_type": "stream",
     "text": [
      "/tmp/ipykernel_896/1750780187.py:1: FutureWarning: Indexing with multiple keys (implicitly converted to a tuple of keys) will be deprecated, use a list instead.\n",
      "  turnstiles2019_time[[\"PREV_TIME\", \"PREV_ENTRIES\"]] = (turnstiles2019_time\n",
      "/tmp/ipykernel_896/1750780187.py:5: FutureWarning: Indexing with multiple keys (implicitly converted to a tuple of keys) will be deprecated, use a list instead.\n",
      "  turnstiles2022_time[[\"PREV_TIME\", \"PREV_ENTRIES\"]] = (turnstiles2022_time\n"
     ]
    }
   ],
   "source": [
    "turnstiles2019_time[[\"PREV_TIME\", \"PREV_ENTRIES\"]] = (turnstiles2019_time\n",
    "                                                       .groupby([\"C/A\", \"UNIT\", \"SCP\", \"STATION\"])[\"DATE_TIME\", \"ENTRIES\"]\n",
    "                                                       .apply(lambda grp: grp.shift(1)))\n",
    "\n",
    "turnstiles2022_time[[\"PREV_TIME\", \"PREV_ENTRIES\"]] = (turnstiles2022_time\n",
    "                                                       .groupby([\"C/A\", \"UNIT\", \"SCP\", \"STATION\"])[\"DATE_TIME\", \"ENTRIES\"]\n",
    "                                                       .apply(lambda grp: grp.shift(1)))"
   ]
  },
  {
   "cell_type": "code",
   "execution_count": 9,
   "id": "f9483eb2",
   "metadata": {},
   "outputs": [],
   "source": [
    "# Drop the rows for the earliest date_time in the df\n",
    "turnstiles2019_time.dropna(subset=[\"PREV_TIME\"], axis=0, inplace=True)\n",
    "turnstiles2022_time.dropna(subset=[\"PREV_TIME\"], axis=0, inplace=True)"
   ]
  },
  {
   "cell_type": "code",
   "execution_count": 10,
   "id": "6decd809",
   "metadata": {},
   "outputs": [
    {
     "name": "stdout",
     "output_type": "stream",
     "text": [
      "26538897 4372016.0\n",
      "4372928 26538897.0\n",
      "26594498 4399580.0\n",
      "4400722 26594498.0\n",
      "26591052 12381894.0\n",
      "12383507 26591052.0\n",
      "26637117 12425908.0\n",
      "12428476 26637117.0\n",
      "67598819 10730723.0\n",
      "10731304 67598819.0\n",
      "67604768 10755609.0\n",
      "10757180 67604768.0\n",
      "5185516 14630916.0\n",
      "14631708 5185516.0\n",
      "5196016 14655214.0\n",
      "14656605 5196016.0\n",
      "836 5664363.0\n",
      "83 7054160.0\n",
      "151 3876009.0\n",
      "2 2117780.0\n",
      "235207703 68073706.0\n",
      "191 2234841.0\n",
      "1550 5527037.0\n",
      "16 1949564347.0\n",
      "459313 11323067.0\n",
      "11324762 459708.0\n",
      "459864 11324762.0\n",
      "458801 6999931.0\n",
      "3 67586631.0\n",
      "74 2385882.0\n",
      "62 552625973.0\n",
      "226 10481828.0\n",
      "1626 9913791.0\n",
      "1804 3596117.0\n",
      "207 1095857.0\n",
      "50 3803351.0\n",
      "200 1412600.0\n",
      "97 6437364.0\n",
      "11 6611558.0\n",
      "100665047 5998739.0\n",
      "21 4128118.0\n",
      "146 1629651041.0\n",
      "1539 2390375.0\n",
      "33611839 186793.0\n",
      "3844615 1319112.0\n",
      "1319880 3846742.0\n",
      "247 1276366720.0\n",
      "155 9485331.0\n",
      "579 7673049.0\n",
      "19 5490768.0\n",
      "459169 2909492.0\n",
      "1797 1973537.0\n",
      "7 1360328.0\n",
      "35 6236784.0\n",
      "1801 5389671.0\n",
      "2196639 5869852.0\n",
      "5870625 2196732.0\n",
      "8416088 3032108.0\n",
      "3032670 8416318.0\n",
      "1776599 5100005.0\n",
      "5100804 1776930.0\n",
      "10584925 670366.0\n",
      "671785 10585305.0\n",
      "11 4743292.0\n",
      "1024 10473402.0\n",
      "12 1029102.0\n",
      "38 2414813.0\n",
      "644484615 3992050.0\n",
      "135 5413988.0\n",
      "1924779 147547.0\n",
      "147548 1924795.0\n",
      "839317244 0.0\n",
      "134582410 476783.0\n",
      "574620 134218388.0\n",
      "134224470 546233.0\n",
      "8 4925026.0\n",
      "7 13186933.0\n",
      "80 2807057.0\n",
      "14483477 181537.0\n",
      "45 14492092.0\n",
      "9240765 3108580.0\n",
      "2 2280214.0\n",
      "3633688 2362489.0\n",
      "393030 3633682.0\n",
      "26 1252628.0\n",
      "18 1350243.0\n",
      "135 6625277.0\n",
      "0 2975261.0\n",
      "81 10570721.0\n",
      "277589 10371517.0\n",
      "287670 1830423.0\n",
      "154 7979357.0\n",
      "6718661 473002.0\n",
      "473020 6718661.0\n",
      "6749425 473529.0\n",
      "473562 6749425.0\n",
      "15167158 2301300.0\n",
      "2301368 15167158.0\n",
      "15198190 2302645.0\n",
      "2302715 15198190.0\n",
      "4022941 1908426.0\n",
      "1908578 4022941.0\n",
      "4050583 1910943.0\n",
      "1911046 4050583.0\n",
      "1333943 2888266.0\n",
      "2888921 1333943.0\n",
      "1350363 2899710.0\n",
      "2900248 1350363.0\n",
      "281586 4109107.0\n",
      "4109981 281586.0\n",
      "292530 4125278.0\n",
      "4126050 292530.0\n",
      "281714 2256545.0\n",
      "2258702 281714.0\n",
      "290287 2295351.0\n",
      "2297285 290287.0\n",
      "819 1522416.0\n",
      "425 7744652.0\n",
      "137 3191017.0\n",
      "7785520 18099790.0\n",
      "18099882 7785520.0\n",
      "1928603561 409.0\n",
      "655711 3263006.0\n",
      "507 8754263.0\n",
      "101 3661111.0\n",
      "0 15728818.0\n",
      "537268042 0.0\n",
      "567 5454923.0\n",
      "1573 1114121.0\n",
      "0 4925799.0\n",
      "133 1401877.0\n",
      "30 1334441.0\n",
      "43 1830476.0\n",
      "2 1312839.0\n",
      "117462891 24392.0\n",
      "1027 5144420.0\n",
      "335582191 1371731.0\n",
      "204 335585014.0\n",
      "64 118402369.0\n",
      "259 7083643.0\n",
      "1133707273 425910.0\n",
      "524291 1133707286.0\n",
      "66 1376698.0\n",
      "8 16151052.0\n",
      "48 1350193.0\n",
      "45 1601058.0\n",
      "589898 201491306.0\n",
      "5 3663765.0\n",
      "14 6061304.0\n",
      "2162752 6773620.0\n",
      "321 7118837.0\n",
      "10 5939257.0\n",
      "177 1715604.0\n",
      "1641180 507349.0\n",
      "524300 1642994.0\n",
      "50331654 458763.0\n",
      "1661796380 50331733.0\n",
      "4 14176715.0\n",
      "0 13480116.0\n",
      "1122 8296931.0\n",
      "53 2807329.0\n",
      "1215 187389661.0\n",
      "458886 51009835.0\n",
      "3 10345379.0\n",
      "90 3068648.0\n",
      "18 2664036.0\n",
      "16 1533909.0\n",
      "3 4209790.0\n",
      "25 9643166.0\n",
      "2 50338124.0\n",
      "23 119352792.0\n",
      "3 117914878.0\n",
      "22 5434751.0\n",
      "6 11241357.0\n",
      "164 51385377.0\n",
      "794873 920064693.0\n",
      "52 16059973.0\n",
      "777 13770219.0\n",
      "640 4971916.0\n",
      "819 8572096.0\n",
      "11332 2479055.0\n",
      "57 1428035637.0\n",
      "852025 6604854.0\n",
      "931 2874613.0\n",
      "110 2353351.0\n",
      "1284 3372192.0\n",
      "208 3603573.0\n",
      "314835242 4094672.0\n",
      "11 5651802.0\n",
      "1769479 584463.0\n",
      "57 1769479.0\n",
      "646 6738017.0\n",
      "973007855 29803565.0\n",
      "2097089095 8585853.0\n",
      "11 1334454.0\n",
      "1501 192991053.0\n",
      "16796650 92944.0\n",
      "24 9456935.0\n",
      "989875372 3894779.0\n",
      "262273 5240415.0\n",
      "323 13588976.0\n",
      "50349452 198446.0\n",
      "244 438498743.0\n",
      "1929168974 59623357.0\n",
      "671058684 14173852.0\n",
      "426 12737464.0\n",
      "587240300 2310648.0\n",
      "19075825 587276804.0\n",
      "402692234 1605956.0\n",
      "589928 402692234.0\n",
      "167830418 675013.0\n",
      "11 12064801.0\n",
      "11 270306326.0\n",
      "16 1847577.0\n",
      "16 3173773.0\n",
      "589826 201857085.0\n",
      "17 2157223.0\n",
      "6089572 37494496.0\n",
      "16983427 6089572.0\n",
      "21 16983427.0\n",
      "1844533418 10413899.0\n",
      "684523539 409931.0\n",
      "16 1848584.0\n",
      "13257 1905727.0\n",
      "47 6721101.0\n",
      "12461 1752692.0\n",
      "649 9638103.0\n",
      "3769 6861700.0\n",
      "16 12846702.0\n",
      "302 7354911.0\n",
      "4 9951098.0\n",
      "550698920 14.0\n",
      "327680 67108864.0\n",
      "4 3622304.0\n",
      "13 1562955740.0\n",
      "108 2900739.0\n",
      "964 2121718.0\n",
      "552542562 196037.0\n",
      "24 4211788.0\n",
      "119 5962731.0\n",
      "127 4224541.0\n",
      "7 5618940.0\n",
      "12 2645459.0\n",
      "16758736 44963.0\n",
      "200 5808834.0\n",
      "5 1940653.0\n",
      "53 1191921.0\n",
      "286 7582674.0\n",
      "306313 134457675.0\n",
      "189 3433215.0\n",
      "1253649 190646.0\n",
      "190720 1253649.0\n",
      "7 21129400.0\n",
      "3360 2076799.0\n",
      "8962474 573866.0\n",
      "573901 8962474.0\n",
      "135 2397667.0\n",
      "186 2506348.0\n",
      "4 1289819897.0\n",
      "1048592 9753966.0\n",
      "85 3970484.0\n",
      "26 1189272.0\n",
      "1996226557 478717.0\n",
      "151 2037287.0\n",
      "311389 1781420.0\n",
      "47 6132692.0\n",
      "41 13962499.0\n",
      "33 2095810.0\n",
      "2030106827 7958457.0\n",
      "1594098258 73352962.0\n",
      "76 2045975229.0\n",
      "42 2004946.0\n",
      "22 1089734.0\n",
      "1089745 26745.0\n"
     ]
    }
   ],
   "source": [
    "def get_time_counts(row, max_counter):\n",
    "    counter = row[\"ENTRIES\"] - row[\"PREV_ENTRIES\"]\n",
    "    if counter < 0:\n",
    "        # Maybe counter is reversed?\n",
    "        counter = -counter\n",
    "    if counter > max_counter:\n",
    "        # Maybe counter was reset to 0? \n",
    "        print(row[\"ENTRIES\"], row[\"PREV_ENTRIES\"])\n",
    "        counter = min(row[\"ENTRIES\"], row[\"PREV_ENTRIES\"])\n",
    "    if counter > max_counter:\n",
    "        # Check it again to make sure we're not still giving a counter that's too big\n",
    "        return 0\n",
    "    return counter\n",
    "\n",
    "# If counter is > 1Million, then the counter might have been reset.  \n",
    "# Just set it to zero as different counters have different cycle limits\n",
    "# It'd probably be a good idea to use a number even significantly smaller than 1 million as the limit!\n",
    "\n",
    "# Creates column of entries recorded at each datetime in the DATE_TIME column\n",
    "turnstiles2019_time[\"TIME_ENTRIES\"] = turnstiles2019_time.apply(get_time_counts, axis=1, max_counter=1000000)\n",
    "turnstiles2022_time[\"TIME_ENTRIES\"] = turnstiles2022_time.apply(get_time_counts, axis=1, max_counter=1000000)"
   ]
  },
  {
   "cell_type": "markdown",
   "id": "d5683ae6",
   "metadata": {},
   "source": [
    "Following function is adapted from StackOverflow: https://stackoverflow.com/questions/48937900/round-time-to-nearest-hour-python"
   ]
  },
  {
   "cell_type": "code",
   "execution_count": 11,
   "id": "03364886",
   "metadata": {},
   "outputs": [],
   "source": [
    "def hour_rounder(t):\n",
    "    # Rounds to nearest greater hour by adding a timedelta hour if time is not directly on the hour\n",
    "    if (t.second != 0) or (t.microsecond !=0) or (t.minute !=0):\n",
    "        return (t.replace(second=0, microsecond=0, minute=0, hour=t.hour) + timedelta(hours=1))\n",
    "    else: \n",
    "        return t"
   ]
  },
  {
   "cell_type": "code",
   "execution_count": 12,
   "id": "7a8fbb26",
   "metadata": {},
   "outputs": [],
   "source": [
    "# Cleans up irregular timestamps\n",
    "turnstiles2019_time.DATE_TIME = turnstiles2019_time.DATE_TIME.apply(hour_rounder)\n",
    "turnstiles2022_time.DATE_TIME = turnstiles2022_time.DATE_TIME.apply(hour_rounder)"
   ]
  },
  {
   "cell_type": "code",
   "execution_count": 15,
   "id": "48ad3bab",
   "metadata": {},
   "outputs": [],
   "source": [
    "# Creates Time column to show timestamps without date information\n",
    "turnstiles2019_time['TIME'] = turnstiles2019_time.DATE_TIME.dt.time\n",
    "turnstiles2022_time['TIME'] = turnstiles2022_time.DATE_TIME.dt.time"
   ]
  },
  {
   "cell_type": "code",
   "execution_count": 17,
   "id": "8ce9d3f0",
   "metadata": {},
   "outputs": [],
   "source": [
    "# Organizes dataframe by station, collecting all entries from a datetime stamp into one per datetime\n",
    "station2019_time = turnstiles2019_time.groupby([\"STATION\", \"DATE_TIME\"])[['TIME_ENTRIES']].sum().reset_index()\n",
    "station2022_time = turnstiles2022_time.groupby([\"STATION\", \"DATE_TIME\"])[['TIME_ENTRIES']].sum().reset_index()"
   ]
  },
  {
   "cell_type": "code",
   "execution_count": 21,
   "id": "ba673d8b",
   "metadata": {},
   "outputs": [],
   "source": [
    "# Creates PREV_DATE_TIME column to easier calculate the time intervals that each row describes\n",
    "station2019_time[\"PREV_DATE_TIME\"] = station2019_time.groupby(\"STATION\")['DATE_TIME'].apply(lambda ser: ser.shift(1))\n",
    "station2022_time[\"PREV_DATE_TIME\"] = station2022_time.groupby(\"STATION\")['DATE_TIME'].apply(lambda ser: ser.shift(1))                                              "
   ]
  },
  {
   "cell_type": "code",
   "execution_count": 25,
   "id": "3efcf51d",
   "metadata": {},
   "outputs": [],
   "source": [
    "# Drops first rows with no PREV_DATE_TIME value\n",
    "station2019_time.dropna(subset=[\"PREV_DATE_TIME\"], axis=0, inplace=True)\n",
    "station2022_time.dropna(subset=[\"PREV_DATE_TIME\"], axis=0, inplace=True)"
   ]
  },
  {
   "cell_type": "code",
   "execution_count": 27,
   "id": "2a4bb2e8",
   "metadata": {},
   "outputs": [],
   "source": [
    "# Adds TIME_DELTA column to record what time interval the row describes\n",
    "station2019_time[\"TIME_DELTA\"] = station2019_time['DATE_TIME'] - station2019_time[\"PREV_DATE_TIME\"]\n",
    "station2022_time[\"TIME_DELTA\"] = station2022_time['DATE_TIME'] - station2022_time[\"PREV_DATE_TIME\"]"
   ]
  },
  {
   "cell_type": "code",
   "execution_count": 28,
   "id": "d77404b4",
   "metadata": {},
   "outputs": [
    {
     "name": "stderr",
     "output_type": "stream",
     "text": [
      "/tmp/ipykernel_896/2306279733.py:6: FutureWarning: Series.dt.weekofyear and Series.dt.week have been deprecated.  Please use Series.dt.isocalendar().week instead.\n",
      "  station2019_time['WEEK'] = station2019_time.DATE_TIME.dt.week\n",
      "/tmp/ipykernel_896/2306279733.py:7: FutureWarning: Series.dt.weekofyear and Series.dt.week have been deprecated.  Please use Series.dt.isocalendar().week instead.\n",
      "  station2022_time['WEEK'] = station2022_time.DATE_TIME.dt.week\n"
     ]
    }
   ],
   "source": [
    "# Adds more discrete columns for Month, Day, WeekofYear, and Time\n",
    "station2019_time['MONTH'] = station2019_time.DATE_TIME.dt.month\n",
    "station2019_time['DAY'] = station2019_time.DATE_TIME.dt.day\n",
    "station2022_time['MONTH'] = station2022_time.DATE_TIME.dt.month\n",
    "station2022_time['DAY'] = station2022_time.DATE_TIME.dt.day\n",
    "station2019_time['WEEK'] = station2019_time.DATE_TIME.dt.week\n",
    "station2022_time['WEEK'] = station2022_time.DATE_TIME.dt.week\n",
    "station2019_time['TIME'] = station2019_time.DATE_TIME.dt.time\n",
    "station2022_time['TIME'] = station2022_time.DATE_TIME.dt.time"
   ]
  },
  {
   "cell_type": "code",
   "execution_count": 58,
   "id": "58edbd3b",
   "metadata": {},
   "outputs": [],
   "source": [
    "# Creates labels for each row so we now how many hours they represent\n",
    "station2019_time[\"INT_LABEL\"] = station2019_time.TIME.astype(str) + ' ' + (station2019_time[\"TIME_DELTA\"].dt.seconds//3600).astype(str) + ' hour(s)'\n",
    "station2022_time[\"INT_LABEL\"] = station2019_time.TIME.astype(str) + ' ' + (station2019_time[\"TIME_DELTA\"].dt.seconds//3600).astype(str) + ' hour(s)'"
   ]
  },
  {
   "cell_type": "code",
   "execution_count": 60,
   "id": "11451c1d",
   "metadata": {},
   "outputs": [],
   "source": [
    "%matplotlib inline\n",
    "import matplotlib.pyplot as plt"
   ]
  },
  {
   "cell_type": "code",
   "execution_count": 75,
   "id": "906449e8",
   "metadata": {},
   "outputs": [
    {
     "name": "stderr",
     "output_type": "stream",
     "text": [
      "/tmp/ipykernel_896/544309668.py:6: FutureWarning: Series.dt.weekofyear and Series.dt.week have been deprecated.  Please use Series.dt.isocalendar().week instead.\n",
      "  total_entries_by_time_2019['WEEK'] = total_entries_by_time_2019.DATE_TIME.dt.week\n"
     ]
    }
   ],
   "source": [
    "# Aggregates the entries by timestamp for 2019\n",
    "total_entries_by_time_2019 = station2019_time.groupby(['DATE_TIME']).TIME_ENTRIES.sum().reset_index()\n",
    "total_entries_by_time_2019['TIME'] = total_entries_by_time_2019['DATE_TIME'].dt.time\n",
    "total_entries_by_time_2019['MONTH'] = total_entries_by_time_2019.DATE_TIME.dt.month\n",
    "total_entries_by_time_2019['DAY'] = total_entries_by_time_2019.DATE_TIME.dt.day\n",
    "total_entries_by_time_2019['WEEK'] = total_entries_by_time_2019.DATE_TIME.dt.week"
   ]
  },
  {
   "cell_type": "code",
   "execution_count": 76,
   "id": "5ddefb1a",
   "metadata": {},
   "outputs": [
    {
     "name": "stderr",
     "output_type": "stream",
     "text": [
      "/tmp/ipykernel_896/1195595901.py:6: FutureWarning: Series.dt.weekofyear and Series.dt.week have been deprecated.  Please use Series.dt.isocalendar().week instead.\n",
      "  total_entries_by_time_2022['WEEK'] = total_entries_by_time_2022.DATE_TIME.dt.week\n"
     ]
    }
   ],
   "source": [
    "# Aggregates the entries by timestamp for 2022\n",
    "total_entries_by_time_2022 = station2022_time.groupby(['DATE_TIME']).TIME_ENTRIES.sum().reset_index()\n",
    "total_entries_by_time_2022['TIME'] = total_entries_by_time_2022['DATE_TIME'].dt.time\n",
    "total_entries_by_time_2022['MONTH'] = total_entries_by_time_2022.DATE_TIME.dt.month\n",
    "total_entries_by_time_2022['DAY'] = total_entries_by_time_2022.DATE_TIME.dt.day\n",
    "total_entries_by_time_2022['WEEK'] = total_entries_by_time_2022.DATE_TIME.dt.week"
   ]
  },
  {
   "cell_type": "code",
   "execution_count": 94,
   "id": "99c963f4",
   "metadata": {},
   "outputs": [
    {
     "data": {
      "text/plain": [
       "<matplotlib.legend.Legend at 0x7fd08b31bd30>"
      ]
     },
     "execution_count": 94,
     "metadata": {},
     "output_type": "execute_result"
    },
    {
     "data": {
      "image/png": "[encoded data removed]",
      "text/plain": [
       "<Figure size 432x288 with 1 Axes>"
      ]
     },
     "metadata": {
      "needs_background": "light"
     },
     "output_type": "display_data"
    }
   ],
   "source": [
    "# Creates bar chart, showing total entries per month for 2019 and 2022\n",
    "plt.bar([1, 2, 3], total_entries_by_time_2019.groupby(\"MONTH\")[\"TIME_ENTRIES\"].sum()[0:3], width = .3, label=\"2019\")\n",
    "plt.bar([1.3, 2.3, 3.3], total_entries_by_time_2022.groupby(\"MONTH\")[\"TIME_ENTRIES\"].sum()[0:3], width = .3, label=\"2022\")\n",
    "plt.xticks([1.15, 2.15, 3.15], [\"Jan\", \"Feb\", \"Mar\"])\n",
    "plt.ylabel(\"Number of entries\")\n",
    "plt.title(\"Number of entries in 2019 and 2022, by month\")\n",
    "plt.legend([\"2019\", \"2022\"])"
   ]
  },
  {
   "cell_type": "code",
   "execution_count": 101,
   "id": "715717e7",
   "metadata": {},
   "outputs": [
    {
     "data": {
      "text/plain": [
       "<matplotlib.legend.Legend at 0x7fd089d66fa0>"
      ]
     },
     "execution_count": 101,
     "metadata": {},
     "output_type": "execute_result"
    },
    {
     "data": {
      "image/png": "[encoded data removed]",
      "text/plain": [
       "<Figure size 432x288 with 1 Axes>"
      ]
     },
     "metadata": {
      "needs_background": "light"
     },
     "output_type": "display_data"
    }
   ],
   "source": [
    "# Creates bar chart showing entries per week for 2019 and 2022\n",
    "# Excludes week 1 and week 14 because 2022 has more data for Week 1 January and 2019 has more data for Week 1 April\n",
    "\n",
    "week_labels = [\"Week {}\".format(x) for x in range(2,14)]\n",
    "plt.bar(np.arange(2,14), total_entries_by_time_2019.groupby(\"WEEK\")[\"TIME_ENTRIES\"].sum()[1:13], width = .3, label=\"2019\")\n",
    "plt.bar(np.arange(2,14) + .3 , total_entries_by_time_2022.groupby(\"WEEK\")[\"TIME_ENTRIES\"].sum()[1:13], width = .3, label=\"2022\")\n",
    "plt.xticks(np.arange(2,14)  , week_labels, rotation=90)\n",
    "plt.ylabel(\"Number of entries\")\n",
    "plt.title(\"Number of entries in 2019 and 2022, by week\")\n",
    "plt.legend([\"2019\", \"2022\"])"
   ]
  },
  {
   "cell_type": "code",
   "execution_count": 104,
   "id": "b447ca0c",
   "metadata": {},
   "outputs": [],
   "source": [
    "#Adds weekday column to look closer at ridership trends within week\n",
    "total_entries_by_time_2019[\"WEEKDAY\"] = total_entries_by_time_2019.DATE_TIME.dt.weekday\n",
    "total_entries_by_time_2022[\"WEEKDAY\"] = total_entries_by_time_2022.DATE_TIME.dt.weekday"
   ]
  },
  {
   "cell_type": "code",
   "execution_count": 118,
   "id": "f61b4034",
   "metadata": {},
   "outputs": [
    {
     "data": {
      "text/plain": [
       "<matplotlib.legend.Legend at 0x7fd089be4be0>"
      ]
     },
     "execution_count": 118,
     "metadata": {},
     "output_type": "execute_result"
    },
    {
     "data": {
      "image/png": "[encoded data removed]",
      "text/plain": [
       "<Figure size 432x288 with 1 Axes>"
      ]
     },
     "metadata": {
      "needs_background": "light"
     },
     "output_type": "display_data"
    }
   ],
   "source": [
    "# Creates a line plot showing entries for each day in January\n",
    "plt.plot(total_entries_by_time_2019[total_entries_by_time_2019[\"MONTH\"] == 1].groupby(\"DAY\")[\"TIME_ENTRIES\"].sum())\n",
    "plt.plot(total_entries_by_time_2022[total_entries_by_time_2022[\"MONTH\"] == 1].groupby(\"DAY\")[\"TIME_ENTRIES\"].sum())\n",
    "plt.title(\"Total entries by day in January 2019 and 2022\")\n",
    "plt.ylabel(\"Total entries\")\n",
    "plt.xlabel(\"Day in January\")\n",
    "plt.legend(['2019', '2022'])"
   ]
  },
  {
   "cell_type": "code",
   "execution_count": 116,
   "id": "4f5244b0",
   "metadata": {},
   "outputs": [
    {
     "data": {
      "text/plain": [
       "<matplotlib.legend.Legend at 0x7fd080e75af0>"
      ]
     },
     "execution_count": 116,
     "metadata": {},
     "output_type": "execute_result"
    },
    {
     "data": {
      "image/png": "[encoded data removed]",
      "text/plain": [
       "<Figure size 432x288 with 1 Axes>"
      ]
     },
     "metadata": {
      "needs_background": "light"
     },
     "output_type": "display_data"
    }
   ],
   "source": [
    "# Creates a line plot showing entries for each day in February\n",
    "plt.plot(total_entries_by_time_2019[total_entries_by_time_2019[\"MONTH\"] == 2].groupby(\"DAY\")[\"TIME_ENTRIES\"].sum())\n",
    "plt.plot(total_entries_by_time_2022[total_entries_by_time_2022[\"MONTH\"] == 2].groupby(\"DAY\")[\"TIME_ENTRIES\"].sum())\n",
    "plt.title(\"Total entries by day in February 2019 and 2022\")\n",
    "plt.ylabel(\"Total entries\")\n",
    "plt.xlabel(\"Day in February\")\n",
    "plt.legend(['2019', '2022'])"
   ]
  },
  {
   "cell_type": "code",
   "execution_count": 117,
   "id": "f3db5e22",
   "metadata": {},
   "outputs": [
    {
     "data": {
      "text/plain": [
       "Text(0.5, 0, 'Day in March')"
      ]
     },
     "execution_count": 117,
     "metadata": {},
     "output_type": "execute_result"
    },
    {
     "data": {
      "image/png": "[encoded data removed]",
      "text/plain": [
       "<Figure size 432x288 with 1 Axes>"
      ]
     },
     "metadata": {
      "needs_background": "light"
     },
     "output_type": "display_data"
    }
   ],
   "source": [
    "plt.plot(total_entries_by_time_2019[total_entries_by_time_2019[\"MONTH\"] == 3].groupby(\"DAY\")[\"TIME_ENTRIES\"].sum())\n",
    "plt.plot(total_entries_by_time_2022[total_entries_by_time_2022[\"MONTH\"] == 3].groupby(\"DAY\")[\"TIME_ENTRIES\"].sum())\n",
    "plt.title(\"Total entries by day in March 2019 and 2022\")\n",
    "plt.ylabel(\"Total entries\")\n",
    "plt.xlabel(\"Day in March\")"
   ]
  },
  {
   "cell_type": "code",
   "execution_count": 128,
   "id": "f28cdd83",
   "metadata": {},
   "outputs": [
    {
     "data": {
      "text/html": [
       "<div>\n",
       "<style scoped>\n",
       "    .dataframe tbody tr th:only-of-type {\n",
       "        vertical-align: middle;\n",
       "    }\n",
       "\n",
       "    .dataframe tbody tr th {\n",
       "        vertical-align: top;\n",
       "    }\n",
       "\n",
       "    .dataframe thead th {\n",
       "        text-align: right;\n",
       "    }\n",
       "</style>\n",
       "<table border=\"1\" class=\"dataframe\">\n",
       "  <thead>\n",
       "    <tr style=\"text-align: right;\">\n",
       "      <th></th>\n",
       "      <th>WEEK</th>\n",
       "      <th>WEEKDAY</th>\n",
       "      <th>TIME_ENTRIES</th>\n",
       "    </tr>\n",
       "  </thead>\n",
       "  <tbody>\n",
       "    <tr>\n",
       "      <th>1</th>\n",
       "      <td>1</td>\n",
       "      <td>6</td>\n",
       "      <td>3649223.0</td>\n",
       "    </tr>\n",
       "    <tr>\n",
       "      <th>3</th>\n",
       "      <td>2</td>\n",
       "      <td>1</td>\n",
       "      <td>6572885.0</td>\n",
       "    </tr>\n",
       "    <tr>\n",
       "      <th>12</th>\n",
       "      <td>3</td>\n",
       "      <td>3</td>\n",
       "      <td>6891695.0</td>\n",
       "    </tr>\n",
       "    <tr>\n",
       "      <th>17</th>\n",
       "      <td>4</td>\n",
       "      <td>1</td>\n",
       "      <td>6844861.0</td>\n",
       "    </tr>\n",
       "    <tr>\n",
       "      <th>24</th>\n",
       "      <td>5</td>\n",
       "      <td>1</td>\n",
       "      <td>9465368.0</td>\n",
       "    </tr>\n",
       "    <tr>\n",
       "      <th>34</th>\n",
       "      <td>6</td>\n",
       "      <td>4</td>\n",
       "      <td>7873144.0</td>\n",
       "    </tr>\n",
       "    <tr>\n",
       "      <th>37</th>\n",
       "      <td>7</td>\n",
       "      <td>0</td>\n",
       "      <td>7234536.0</td>\n",
       "    </tr>\n",
       "    <tr>\n",
       "      <th>47</th>\n",
       "      <td>8</td>\n",
       "      <td>3</td>\n",
       "      <td>11541611.0</td>\n",
       "    </tr>\n",
       "    <tr>\n",
       "      <th>54</th>\n",
       "      <td>9</td>\n",
       "      <td>3</td>\n",
       "      <td>7949989.0</td>\n",
       "    </tr>\n",
       "    <tr>\n",
       "      <th>59</th>\n",
       "      <td>10</td>\n",
       "      <td>1</td>\n",
       "      <td>12451582.0</td>\n",
       "    </tr>\n",
       "    <tr>\n",
       "      <th>67</th>\n",
       "      <td>11</td>\n",
       "      <td>2</td>\n",
       "      <td>8662456.0</td>\n",
       "    </tr>\n",
       "    <tr>\n",
       "      <th>76</th>\n",
       "      <td>12</td>\n",
       "      <td>4</td>\n",
       "      <td>6676200.0</td>\n",
       "    </tr>\n",
       "    <tr>\n",
       "      <th>82</th>\n",
       "      <td>13</td>\n",
       "      <td>3</td>\n",
       "      <td>8263852.0</td>\n",
       "    </tr>\n",
       "    <tr>\n",
       "      <th>87</th>\n",
       "      <td>14</td>\n",
       "      <td>1</td>\n",
       "      <td>6788602.0</td>\n",
       "    </tr>\n",
       "  </tbody>\n",
       "</table>\n",
       "</div>"
      ],
      "text/plain": [
       "    WEEK  WEEKDAY  TIME_ENTRIES\n",
       "1      1        6     3649223.0\n",
       "3      2        1     6572885.0\n",
       "12     3        3     6891695.0\n",
       "17     4        1     6844861.0\n",
       "24     5        1     9465368.0\n",
       "34     6        4     7873144.0\n",
       "37     7        0     7234536.0\n",
       "47     8        3    11541611.0\n",
       "54     9        3     7949989.0\n",
       "59    10        1    12451582.0\n",
       "67    11        2     8662456.0\n",
       "76    12        4     6676200.0\n",
       "82    13        3     8263852.0\n",
       "87    14        1     6788602.0"
      ]
     },
     "execution_count": 128,
     "metadata": {},
     "output_type": "execute_result"
    }
   ],
   "source": [
    "# Gets total entries per day\n",
    "total_entries_by_day_2019 = total_entries_by_time_2019.groupby(['WEEK', 'WEEKDAY'])['TIME_ENTRIES'].sum().reset_index()\n",
    "total_entries_by_day_2022 = total_entries_by_time_2022.groupby(['WEEK', 'WEEKDAY'])['TIME_ENTRIES'].sum().reset_index()\n",
    "\n"
   ]
  },
  {
   "cell_type": "code",
   "execution_count": 129,
   "id": "2091c767",
   "metadata": {},
   "outputs": [],
   "source": [
    "# Creates datafram with days that had the highest number of entries in their respective weeks\n",
    "top_entry_day_2019 = total_entries_by_day_2019.sort_values(\"TIME_ENTRIES\", ascending=False).drop_duplicates([\"WEEK\"]).sort_values(\"WEEK\")\n",
    "top_entry_day_2022 = total_entries_by_day_2022.sort_values(\"TIME_ENTRIES\", ascending=False).drop_duplicates([\"WEEK\"]).sort_values(\"WEEK\")"
   ]
  },
  {
   "cell_type": "code",
   "execution_count": 140,
   "id": "f8a0d9c9",
   "metadata": {},
   "outputs": [
    {
     "data": {
      "text/plain": [
       "<AxesSubplot:title={'center':'# of times weekday recorded top entries from January - March, 2019'}, xlabel='Day of week at which top entries recorded (Monday = 0)', ylabel='# of times top entries recorded'>"
      ]
     },
     "execution_count": 140,
     "metadata": {},
     "output_type": "execute_result"
    },
    {
     "data": {
      "image/png": "[encoded data removed]",
      "text/plain": [
       "<Figure size 432x288 with 1 Axes>"
      ]
     },
     "metadata": {
      "needs_background": "light"
     },
     "output_type": "display_data"
    }
   ],
   "source": [
    "# Creates bar graph showing number of times each weekday had the highest number of entries in its week\n",
    "top_entry_day_2019.WEEKDAY.value_counts().plot( \n",
    "                                kind='bar', \n",
    "                                xlabel=\"Day of week at which top entries recorded (Monday = 0)\",\n",
    "                                ylabel=\"# of times top entries recorded\",\n",
    "                               title=\"# of times weekday recorded top entries from January - March, 2019\")\n"
   ]
  },
  {
   "cell_type": "code",
   "execution_count": 141,
   "id": "f2a9dd1e",
   "metadata": {},
   "outputs": [
    {
     "data": {
      "text/plain": [
       "<AxesSubplot:title={'center':'# of times weekday recorded top entries from January - March, 2022'}, xlabel='Day of week at which top entries recorded (Monday = 0)', ylabel='# of times top entries recorded'>"
      ]
     },
     "execution_count": 141,
     "metadata": {},
     "output_type": "execute_result"
    },
    {
     "data": {
      "image/png": "[encoded data removed]",
      "text/plain": [
       "<Figure size 432x288 with 1 Axes>"
      ]
     },
     "metadata": {
      "needs_background": "light"
     },
     "output_type": "display_data"
    }
   ],
   "source": [
    "# Creates bar graph showing number of times each weekday had the highest number of entries in its week\n",
    "top_entry_day_2022.WEEKDAY.value_counts().plot( \n",
    "                                kind='bar', \n",
    "                                xlabel=\"Day of week at which top entries recorded (Monday = 0)\",\n",
    "                                ylabel=\"# of times top entries recorded\",\n",
    "                               title=\"# of times weekday recorded top entries from January - March, 2022\")"
   ]
  },
  {
   "cell_type": "code",
   "execution_count": 70,
   "id": "969a0e83",
   "metadata": {},
   "outputs": [
    {
     "name": "stdout",
     "output_type": "stream",
     "text": [
      "515395304.0\n",
      "218666522.0\n"
     ]
    }
   ],
   "source": [
    "# Gets total number of entries in 2019 and 2022\n",
    "total_volume_2019 = total_entries_by_time_2019.TIME_ENTRIES.sum()\n",
    "total_volume_2022 = total_entries_by_time_2022.TIME_ENTRIES.sum()\n",
    "print(total_volume_2019)\n",
    "print(total_volume_2022)"
   ]
  },
  {
   "cell_type": "code",
   "execution_count": 65,
   "id": "bb2adc27",
   "metadata": {},
   "outputs": [],
   "source": [
    "#Sorts the table by the entries at each time in the entire subway system, then drops duplicates from the same day\n",
    "#The result is a table that shows the highest traffic recorded in the subway per day, by the time it was recorded\n",
    "top_entries_perday_2019 = total_entries_by_time_2019.sort_values('TIME_ENTRIES', ascending=False).drop_duplicates(['MONTH','DAY']).sort_values([\"MONTH\", \"DAY\"])\n",
    "top_entries_perday_2022 = total_entries_by_time_2022.sort_values('TIME_ENTRIES', ascending=False).drop_duplicates(['MONTH','DAY']).sort_values([\"MONTH\", \"DAY\"])\n",
    "\n",
    "\n"
   ]
  },
  {
   "cell_type": "code",
   "execution_count": 144,
   "id": "516bc3aa",
   "metadata": {},
   "outputs": [
    {
     "data": {
      "text/plain": [
       "<AxesSubplot:title={'center':'# of times time interval recorded top entries from January - March, 2019'}, xlabel='Time at which top entries recorded', ylabel='# of times top entries recorded'>"
      ]
     },
     "execution_count": 144,
     "metadata": {},
     "output_type": "execute_result"
    },
    {
     "data": {
      "image/png": "[encoded data removed]",
      "text/plain": [
       "<Figure size 432x288 with 1 Axes>"
      ]
     },
     "metadata": {
      "needs_background": "light"
     },
     "output_type": "display_data"
    }
   ],
   "source": [
    "# Creates bar graph showing frequency with which a particular timestamp records the top entries\n",
    "top_entries_perday_2019.TIME.value_counts().plot(kind='bar', \n",
    "                                xlabel=\"Time at which top entries recorded\",\n",
    "                                ylabel=\"# of times top entries recorded\",\n",
    "                               title=\"# of times time interval recorded top entries from January - March, 2019\")"
   ]
  },
  {
   "cell_type": "code",
   "execution_count": 145,
   "id": "53fad40f",
   "metadata": {},
   "outputs": [
    {
     "data": {
      "text/plain": [
       "<AxesSubplot:title={'center':'# of times time interval recorded top entries from January - March, 2022'}, xlabel='Time at which max entries recorded', ylabel='# of times max entries recorded'>"
      ]
     },
     "execution_count": 145,
     "metadata": {},
     "output_type": "execute_result"
    },
    {
     "data": {
      "image/png": "[encoded data removed]",
      "text/plain": [
       "<Figure size 432x288 with 1 Axes>"
      ]
     },
     "metadata": {
      "needs_background": "light"
     },
     "output_type": "display_data"
    }
   ],
   "source": [
    "top_entries_perday_2022.TIME.value_counts().plot(kind='bar', \n",
    "                                xlabel=\"Time at which max entries recorded\",\n",
    "                                ylabel=\"# of times max entries recorded\",\n",
    "                               title=\"# of times time interval recorded top entries from January - March, 2022\")"
   ]
  },
  {
   "cell_type": "code",
   "execution_count": null,
   "id": "6a2d42e9",
   "metadata": {},
   "outputs": [],
   "source": []
  }
 ],
 "metadata": {
  "kernelspec": {
   "display_name": "Python 3 (ipykernel)",
   "language": "python",
   "name": "python3"
  },
  "language_info": {
   "codemirror_mode": {
    "name": "ipython",
    "version": 3
   },
   "file_extension": ".py",
   "mimetype": "text/x-python",
   "name": "python",
   "nbconvert_exporter": "python",
   "pygments_lexer": "ipython3",
   "version": "3.9.7"
  }
 },
 "nbformat": 4,
 "nbformat_minor": 5
}
